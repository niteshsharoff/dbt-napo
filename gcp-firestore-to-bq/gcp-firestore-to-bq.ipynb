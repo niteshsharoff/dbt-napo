{
 "cells": [
  {
   "cell_type": "code",
   "execution_count": 7,
   "metadata": {},
   "outputs": [],
   "source": [
    "from datetime import datetime\n",
    "import firebase_admin\n",
    "from firebase_admin import credentials, firestore\n",
    "from google.oauth2 import service_account\n",
    "from google.cloud import bigquery\n",
    "import pandas as pd\n"
   ]
  },
  {
   "cell_type": "code",
   "execution_count": 2,
   "metadata": {},
   "outputs": [],
   "source": [
    "cred = credentials.Certificate(\"service-account.json\")\n",
    "app = firebase_admin.initialize_app(cred)\n",
    "db = firestore.client()"
   ]
  },
  {
   "cell_type": "code",
   "execution_count": 10,
   "metadata": {},
   "outputs": [],
   "source": [
    "mapping = {\n",
    " #   'user':'users_dev',\n",
    "    'booking':'bookings_dev',\n",
    "#    'emailReminders':'email_reminders_dev',\n",
    "#    'smsReminders':'sms_reminders_dev'\n",
    "}"
   ]
  },
  {
   "cell_type": "code",
   "execution_count": 11,
   "metadata": {},
   "outputs": [
    {
     "name": "stdout",
     "output_type": "stream",
     "text": [
      "bookings_dev\n"
     ]
    }
   ],
   "source": [
    "for key in mapping:\n",
    "    print(mapping[key])"
   ]
  },
  {
   "cell_type": "code",
   "execution_count": 22,
   "metadata": {},
   "outputs": [],
   "source": [
    "for key in mapping:\n",
    "    temp = list(db.collection('{}'.format(key)).stream())\n",
    "    temp_dict = list(map(lambda x: x.to_dict(), temp))\n",
    "    globals()[f\"df_{mapping[key]}\"] = pd.DataFrame(temp_dict)\n",
    "    globals()[f\"df_{mapping[key]}\"]['_imported_at'] = datetime.now()"
   ]
  },
  {
   "cell_type": "code",
   "execution_count": 23,
   "metadata": {},
   "outputs": [
    {
     "data": {
      "text/html": [
       "<div>\n",
       "<style scoped>\n",
       "    .dataframe tbody tr th:only-of-type {\n",
       "        vertical-align: middle;\n",
       "    }\n",
       "\n",
       "    .dataframe tbody tr th {\n",
       "        vertical-align: top;\n",
       "    }\n",
       "\n",
       "    .dataframe thead th {\n",
       "        text-align: right;\n",
       "    }\n",
       "</style>\n",
       "<table border=\"1\" class=\"dataframe\">\n",
       "  <thead>\n",
       "    <tr style=\"text-align: right;\">\n",
       "      <th></th>\n",
       "      <th>userId</th>\n",
       "      <th>date</th>\n",
       "      <th>className</th>\n",
       "      <th>cancelled</th>\n",
       "      <th>classDescription</th>\n",
       "      <th>classId</th>\n",
       "      <th>attendance</th>\n",
       "      <th>sessionId</th>\n",
       "      <th>notify</th>\n",
       "      <th>_imported_at</th>\n",
       "    </tr>\n",
       "  </thead>\n",
       "  <tbody>\n",
       "    <tr>\n",
       "      <th>0</th>\n",
       "      <td>5370</td>\n",
       "      <td>2022-10-20 12:00</td>\n",
       "      <td>Toilet training</td>\n",
       "      <td>False</td>\n",
       "      <td>The first rule of toilet training is take your...</td>\n",
       "      <td>173248454</td>\n",
       "      <td>False</td>\n",
       "      <td>03961175-1ae3-4d13-8f93-f5c7b9ba3bb1</td>\n",
       "      <td>NaN</td>\n",
       "      <td>2022-12-01 11:06:15.631791</td>\n",
       "    </tr>\n",
       "    <tr>\n",
       "      <th>1</th>\n",
       "      <td>5370</td>\n",
       "      <td>2022-10-20 17:00</td>\n",
       "      <td>Training cues &amp; tricks</td>\n",
       "      <td>True</td>\n",
       "      <td>Puppy won’t listen? Learn to use food and posi...</td>\n",
       "      <td>173248461</td>\n",
       "      <td>True</td>\n",
       "      <td>0d72ab7d-bb44-4477-847b-7d60d5fed669</td>\n",
       "      <td>NaN</td>\n",
       "      <td>2022-12-01 11:06:15.631791</td>\n",
       "    </tr>\n",
       "    <tr>\n",
       "      <th>2</th>\n",
       "      <td>5370</td>\n",
       "      <td>2022-11-14 17:00</td>\n",
       "      <td>First aid &amp; health checks you can do</td>\n",
       "      <td>False</td>\n",
       "      <td>Poorly Puppy? Learn the signs of sickness and ...</td>\n",
       "      <td>173248449</td>\n",
       "      <td>True</td>\n",
       "      <td>15c92aee-57ec-4fe6-8ec3-5632e88f4ae7</td>\n",
       "      <td>False</td>\n",
       "      <td>2022-12-01 11:06:15.631791</td>\n",
       "    </tr>\n",
       "    <tr>\n",
       "      <th>3</th>\n",
       "      <td>5578</td>\n",
       "      <td>2022-12-08 12:00</td>\n",
       "      <td>Understanding body language</td>\n",
       "      <td>False</td>\n",
       "      <td>Puppies can’t talk, but certainly have a lot t...</td>\n",
       "      <td>173248456</td>\n",
       "      <td>False</td>\n",
       "      <td>18e25659-8676-4409-9c63-81dcb7f8b082</td>\n",
       "      <td>NaN</td>\n",
       "      <td>2022-12-01 11:06:15.631791</td>\n",
       "    </tr>\n",
       "    <tr>\n",
       "      <th>4</th>\n",
       "      <td>5685</td>\n",
       "      <td>2022-12-08 12:00</td>\n",
       "      <td>Understanding body language</td>\n",
       "      <td>False</td>\n",
       "      <td>Puppies can’t talk, but certainly have a lot t...</td>\n",
       "      <td>173248456</td>\n",
       "      <td>False</td>\n",
       "      <td>18e25659-8676-4409-9c63-81dcb7f8b082</td>\n",
       "      <td>NaN</td>\n",
       "      <td>2022-12-01 11:06:15.631791</td>\n",
       "    </tr>\n",
       "  </tbody>\n",
       "</table>\n",
       "</div>"
      ],
      "text/plain": [
       "  userId              date                             className  cancelled  \\\n",
       "0   5370  2022-10-20 12:00                       Toilet training      False   \n",
       "1   5370  2022-10-20 17:00                Training cues & tricks       True   \n",
       "2   5370  2022-11-14 17:00  First aid & health checks you can do      False   \n",
       "3   5578  2022-12-08 12:00           Understanding body language      False   \n",
       "4   5685  2022-12-08 12:00           Understanding body language      False   \n",
       "\n",
       "                                    classDescription    classId  attendance  \\\n",
       "0  The first rule of toilet training is take your...  173248454       False   \n",
       "1  Puppy won’t listen? Learn to use food and posi...  173248461        True   \n",
       "2  Poorly Puppy? Learn the signs of sickness and ...  173248449        True   \n",
       "3  Puppies can’t talk, but certainly have a lot t...  173248456       False   \n",
       "4  Puppies can’t talk, but certainly have a lot t...  173248456       False   \n",
       "\n",
       "                              sessionId notify               _imported_at  \n",
       "0  03961175-1ae3-4d13-8f93-f5c7b9ba3bb1    NaN 2022-12-01 11:06:15.631791  \n",
       "1  0d72ab7d-bb44-4477-847b-7d60d5fed669    NaN 2022-12-01 11:06:15.631791  \n",
       "2  15c92aee-57ec-4fe6-8ec3-5632e88f4ae7  False 2022-12-01 11:06:15.631791  \n",
       "3  18e25659-8676-4409-9c63-81dcb7f8b082    NaN 2022-12-01 11:06:15.631791  \n",
       "4  18e25659-8676-4409-9c63-81dcb7f8b082    NaN 2022-12-01 11:06:15.631791  "
      ]
     },
     "execution_count": 23,
     "metadata": {},
     "output_type": "execute_result"
    }
   ],
   "source": [
    "df_bookings_dev.head()"
   ]
  },
  {
   "cell_type": "code",
   "execution_count": 20,
   "metadata": {},
   "outputs": [],
   "source": [
    "key_path = r\"C:\\Users\\nites\\OneDrive\\Documents\\napo-nitesh-local-ae32-vpcservice-datawarehouse-879a160a28ee.json\"\n",
    "credentials = service_account.Credentials.from_service_account_file(\n",
    "    key_path, scopes=[\"https://www.googleapis.com/auth/cloud-platform\"])\n",
    "client = bigquery.Client(credentials=credentials, project=credentials.project_id,)\n",
    "\n",
    "job_config2 = bigquery.LoadJobConfig(\n",
    "    autodetect=True,\n",
    "    write_disposition = bigquery.WriteDisposition.WRITE_TRUNCATE\n",
    ")"
   ]
  },
  {
   "cell_type": "code",
   "execution_count": 21,
   "metadata": {},
   "outputs": [
    {
     "name": "stdout",
     "output_type": "stream",
     "text": [
      "<google.cloud.bigquery.job.load.LoadJob object at 0x000002026CEE4D60>\n"
     ]
    }
   ],
   "source": [
    "dataset_name='firestore_dev'\n",
    "\n",
    "for key in mapping:\n",
    "    load_job = client.load_table_from_dataframe(\n",
    "        globals()[f\"df_{mapping[key]}\"]\n",
    "        ,\"ae32-vpcservice-datawarehouse.{}.{}\".format(dataset_name,mapping[key])\n",
    "        ,job_config=job_config2\n",
    "        ,location='EU'\n",
    "    ) \n",
    "    print(load_job.result())"
   ]
  }
 ],
 "metadata": {
  "kernelspec": {
   "display_name": "Python 3.8.5 ('base')",
   "language": "python",
   "name": "python3"
  },
  "language_info": {
   "codemirror_mode": {
    "name": "ipython",
    "version": 3
   },
   "file_extension": ".py",
   "mimetype": "text/x-python",
   "name": "python",
   "nbconvert_exporter": "python",
   "pygments_lexer": "ipython3",
   "version": "3.8.5"
  },
  "orig_nbformat": 4,
  "vscode": {
   "interpreter": {
    "hash": "56412660b037274d686266c65699192c47fe0cde2b795cf57673260ecc54f434"
   }
  }
 },
 "nbformat": 4,
 "nbformat_minor": 2
}
