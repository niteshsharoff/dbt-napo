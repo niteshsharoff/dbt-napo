{
 "cells": [
  {
   "cell_type": "code",
   "execution_count": 1,
   "metadata": {},
   "outputs": [],
   "source": [
    "import firebase_admin\n",
    "from firebase_admin import credentials, firestore\n",
    "from google.oauth2 import service_account\n",
    "from google.cloud import bigquery\n",
    "import pandas as pd"
   ]
  },
  {
   "cell_type": "code",
   "execution_count": 2,
   "metadata": {},
   "outputs": [],
   "source": [
    "cred = credentials.Certificate(\"service-account.json\")\n",
    "app = firebase_admin.initialize_app(cred)\n",
    "db = firestore.client()"
   ]
  },
  {
   "cell_type": "code",
   "execution_count": 3,
   "metadata": {},
   "outputs": [],
   "source": [
    "mapping = {\n",
    "    'user':'users_dev',\n",
    "    'booking':'bookings_dev',\n",
    "    'emailReminders':'email_reminders_dev',\n",
    "    'smsReminders':'sms_reminders_dev'\n",
    "}"
   ]
  },
  {
   "cell_type": "code",
   "execution_count": null,
   "metadata": {},
   "outputs": [],
   "source": [
    "for key in mapping:\n",
    "    print(mapping[key])"
   ]
  },
  {
   "cell_type": "code",
   "execution_count": 4,
   "metadata": {},
   "outputs": [],
   "source": [
    "for key in mapping:\n",
    "    temp = list(db.collection('{}'.format(key)).stream())\n",
    "    temp_dict = list(map(lambda x: x.to_dict(), temp))\n",
    "    globals()[f\"df_{mapping[key]}\"] = pd.DataFrame(temp_dict)"
   ]
  },
  {
   "cell_type": "code",
   "execution_count": 10,
   "metadata": {},
   "outputs": [],
   "source": [
    "#df_bookings_dev.head()"
   ]
  },
  {
   "cell_type": "code",
   "execution_count": 7,
   "metadata": {},
   "outputs": [],
   "source": [
    "key_path = r\"C:\\Users\\nites\\OneDrive\\Documents\\napo-nitesh-local-ae32-vpcservice-datawarehouse-879a160a28ee.json\"\n",
    "credentials = service_account.Credentials.from_service_account_file(\n",
    "    key_path, scopes=[\"https://www.googleapis.com/auth/cloud-platform\"])\n",
    "client = bigquery.Client(credentials=credentials, project=credentials.project_id,)\n",
    "\n",
    "job_config2 = bigquery.LoadJobConfig(\n",
    "    autodetect=True,\n",
    "    write_disposition = bigquery.WriteDisposition.WRITE_TRUNCATE\n",
    ")"
   ]
  },
  {
   "cell_type": "code",
   "execution_count": 8,
   "metadata": {},
   "outputs": [
    {
     "name": "stderr",
     "output_type": "stream",
     "text": [
      "c:\\Users\\nites\\anaconda3\\lib\\site-packages\\google\\cloud\\bigquery\\_pandas_helpers.py:405: UserWarning: Pyarrow could not determine the type of columns: courses.\n",
      "  warnings.warn(\n"
     ]
    },
    {
     "name": "stdout",
     "output_type": "stream",
     "text": [
      "<google.cloud.bigquery.job.load.LoadJob object at 0x0000021D1DFA8CD0>\n",
      "<google.cloud.bigquery.job.load.LoadJob object at 0x0000021D1DFA8580>\n"
     ]
    },
    {
     "name": "stderr",
     "output_type": "stream",
     "text": [
      "c:\\Users\\nites\\anaconda3\\lib\\site-packages\\google\\cloud\\bigquery\\_pandas_helpers.py:405: UserWarning: Pyarrow could not determine the type of columns: message.\n",
      "  warnings.warn(\n"
     ]
    },
    {
     "name": "stdout",
     "output_type": "stream",
     "text": [
      "<google.cloud.bigquery.job.load.LoadJob object at 0x0000021D1DE4BEE0>\n",
      "<google.cloud.bigquery.job.load.LoadJob object at 0x0000021D1E022730>\n"
     ]
    }
   ],
   "source": [
    "dataset_name='firestore'\n",
    "\n",
    "for key in mapping:\n",
    "    load_job = client.load_table_from_dataframe(\n",
    "        globals()[f\"df_{mapping[key]}\"]\n",
    "        ,\"ae32-vpcservice-datawarehouse.{}.{}\".format(dataset_name,mapping[key])\n",
    "        ,job_config=job_config2\n",
    "        ,location='EU'\n",
    "    ) \n",
    "    print(load_job.result())"
   ]
  }
 ],
 "metadata": {
  "kernelspec": {
   "display_name": "Python 3.8.5 ('base')",
   "language": "python",
   "name": "python3"
  },
  "language_info": {
   "codemirror_mode": {
    "name": "ipython",
    "version": 3
   },
   "file_extension": ".py",
   "mimetype": "text/x-python",
   "name": "python",
   "nbconvert_exporter": "python",
   "pygments_lexer": "ipython3",
   "version": "3.8.5"
  },
  "orig_nbformat": 4,
  "vscode": {
   "interpreter": {
    "hash": "56412660b037274d686266c65699192c47fe0cde2b795cf57673260ecc54f434"
   }
  }
 },
 "nbformat": 4,
 "nbformat_minor": 2
}
