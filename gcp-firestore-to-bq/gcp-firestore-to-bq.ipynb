{
 "cells": [
  {
   "cell_type": "code",
   "execution_count": 1,
   "metadata": {
    "vscode": {
     "languageId": "javascript"
    }
   },
   "outputs": [],
   "source": [
    "from datetime import datetime\n",
    "import firebase_admin\n",
    "from firebase_admin import credentials, firestore\n",
    "from google.oauth2 import service_account\n",
    "from google.cloud import bigquery\n",
    "import pandas as pd"
   ]
  },
  {
   "cell_type": "code",
   "execution_count": 2,
   "metadata": {
    "vscode": {
     "languageId": "javascript"
    }
   },
   "outputs": [],
   "source": [
    "cred = credentials.Certificate(\"service-account.json\")\n",
    "app = firebase_admin.initialize_app(cred)\n",
    "db = firestore.client()"
   ]
  },
  {
   "cell_type": "code",
   "execution_count": 3,
   "metadata": {
    "vscode": {
     "languageId": "javascript"
    }
   },
   "outputs": [],
   "source": [
    "mapping = {\n",
    "    'user':'users_dev',\n",
    "    'booking':'bookings_dev',\n",
    "    'emailReminders':'email_reminders_dev',\n",
    "    'smsReminders':'sms_reminders_dev'\n",
    "}"
   ]
  },
  {
   "cell_type": "code",
   "execution_count": 4,
   "metadata": {
    "vscode": {
     "languageId": "javascript"
    }
   },
   "outputs": [
    {
     "name": "stdout",
     "output_type": "stream",
     "text": [
      "users_dev\n",
      "bookings_dev\n",
      "email_reminders_dev\n",
      "sms_reminders_dev\n"
     ]
    }
   ],
   "source": [
    "for key in mapping:\n",
    "    print(mapping[key])"
   ]
  },
  {
   "cell_type": "code",
   "execution_count": 5,
   "metadata": {
    "vscode": {
     "languageId": "javascript"
    }
   },
   "outputs": [],
   "source": [
    "def manipulate(x):\n",
    "    temp =x.to_dict()\n",
    "    temp['id']=x.id\n",
    "    return temp"
   ]
  },
  {
   "cell_type": "code",
   "execution_count": 6,
   "metadata": {
    "vscode": {
     "languageId": "javascript"
    }
   },
   "outputs": [],
   "source": [
    "for key in mapping:\n",
    "    temp = list(db.collection('{}'.format(key)).stream())\n",
    "    temp_dict = list(map(manipulate, temp))\n",
    "    globals()[f\"df_{mapping[key]}\"] = pd.DataFrame(temp_dict)\n",
    "    globals()[f\"df_{mapping[key]}\"]['_imported_at'] = datetime.now()"
   ]
  },
  {
   "cell_type": "code",
   "execution_count": 7,
   "metadata": {
    "vscode": {
     "languageId": "javascript"
    }
   },
   "outputs": [
    {
     "data": {
      "text/html": [
       "<div>\n",
       "<style scoped>\n",
       "    .dataframe tbody tr th:only-of-type {\n",
       "        vertical-align: middle;\n",
       "    }\n",
       "\n",
       "    .dataframe tbody tr th {\n",
       "        vertical-align: top;\n",
       "    }\n",
       "\n",
       "    .dataframe thead th {\n",
       "        text-align: right;\n",
       "    }\n",
       "</style>\n",
       "<table border=\"1\" class=\"dataframe\">\n",
       "  <thead>\n",
       "    <tr style=\"text-align: right;\">\n",
       "      <th></th>\n",
       "      <th>message</th>\n",
       "      <th>userId</th>\n",
       "      <th>id</th>\n",
       "      <th>_imported_at</th>\n",
       "    </tr>\n",
       "  </thead>\n",
       "  <tbody>\n",
       "    <tr>\n",
       "      <th>0</th>\n",
       "      <td>{'queued_reason': None, 'email': 'jason+007@na...</td>\n",
       "      <td>5329</td>\n",
       "      <td>00c353db-0a00-4bf6-a7a9-0099b1d645e1-5329</td>\n",
       "      <td>2023-04-11 12:12:49.242127</td>\n",
       "    </tr>\n",
       "    <tr>\n",
       "      <th>1</th>\n",
       "      <td>{'queued_reason': None, 'email': 'jason+008@na...</td>\n",
       "      <td>5357</td>\n",
       "      <td>00c353db-0a00-4bf6-a7a9-0099b1d645e1-5357</td>\n",
       "      <td>2023-04-11 12:12:49.242127</td>\n",
       "    </tr>\n",
       "    <tr>\n",
       "      <th>2</th>\n",
       "      <td>{'queued_reason': None, 'email': 'tatenda+cust...</td>\n",
       "      <td>5370</td>\n",
       "      <td>00c353db-0a00-4bf6-a7a9-0099b1d645e1-5370</td>\n",
       "      <td>2023-04-11 12:12:49.242127</td>\n",
       "    </tr>\n",
       "    <tr>\n",
       "      <th>3</th>\n",
       "      <td>{'queued_reason': None, 'email': 'tatenda+cust...</td>\n",
       "      <td>5370</td>\n",
       "      <td>01b2cf25-bfa4-46bd-90c5-13ac7162c6cd-5370</td>\n",
       "      <td>2023-04-11 12:12:49.242127</td>\n",
       "    </tr>\n",
       "    <tr>\n",
       "      <th>4</th>\n",
       "      <td>{'queued_reason': None, 'email': 'diana.rojas@...</td>\n",
       "      <td>5578</td>\n",
       "      <td>01b2cf25-bfa4-46bd-90c5-13ac7162c6cd-5578</td>\n",
       "      <td>2023-04-11 12:12:49.242127</td>\n",
       "    </tr>\n",
       "  </tbody>\n",
       "</table>\n",
       "</div>"
      ],
      "text/plain": [
       "                                             message userId  \\\n",
       "0  {'queued_reason': None, 'email': 'jason+007@na...   5329   \n",
       "1  {'queued_reason': None, 'email': 'jason+008@na...   5357   \n",
       "2  {'queued_reason': None, 'email': 'tatenda+cust...   5370   \n",
       "3  {'queued_reason': None, 'email': 'tatenda+cust...   5370   \n",
       "4  {'queued_reason': None, 'email': 'diana.rojas@...   5578   \n",
       "\n",
       "                                          id               _imported_at  \n",
       "0  00c353db-0a00-4bf6-a7a9-0099b1d645e1-5329 2023-04-11 12:12:49.242127  \n",
       "1  00c353db-0a00-4bf6-a7a9-0099b1d645e1-5357 2023-04-11 12:12:49.242127  \n",
       "2  00c353db-0a00-4bf6-a7a9-0099b1d645e1-5370 2023-04-11 12:12:49.242127  \n",
       "3  01b2cf25-bfa4-46bd-90c5-13ac7162c6cd-5370 2023-04-11 12:12:49.242127  \n",
       "4  01b2cf25-bfa4-46bd-90c5-13ac7162c6cd-5578 2023-04-11 12:12:49.242127  "
      ]
     },
     "execution_count": 7,
     "metadata": {},
     "output_type": "execute_result"
    }
   ],
   "source": [
    "df_email_reminders_dev.head()"
   ]
  },
  {
   "cell_type": "code",
   "execution_count": 8,
   "metadata": {
    "vscode": {
     "languageId": "javascript"
    }
   },
   "outputs": [],
   "source": [
    "key_path = r\"C:\\Users\\nites\\OneDrive\\Documents\\napo-nitesh-local-ae32-vpcservice-datawarehouse-879a160a28ee.json\"\n",
    "credentials = service_account.Credentials.from_service_account_file(\n",
    "    key_path, scopes=[\"https://www.googleapis.com/auth/cloud-platform\"])\n",
    "client = bigquery.Client(credentials=credentials, project=credentials.project_id,)\n",
    "\n",
    "job_config2 = bigquery.LoadJobConfig(\n",
    "    autodetect=True,\n",
    "    write_disposition = bigquery.WriteDisposition.WRITE_TRUNCATE\n",
    ")"
   ]
  },
  {
   "cell_type": "code",
   "execution_count": 9,
   "metadata": {
    "vscode": {
     "languageId": "javascript"
    }
   },
   "outputs": [
    {
     "ename": "NotFound",
     "evalue": "404 POST https://bigquery.googleapis.com/upload/bigquery/v2/projects/ae32-vpcservice-datawarehouse/jobs?uploadType=multipart: Not found: Dataset ae32-vpcservice-datawarehouse:firestore_dev",
     "output_type": "error",
     "traceback": [
      "\u001b[1;31m---------------------------------------------------------------------------\u001b[0m",
      "\u001b[1;31mInvalidResponse\u001b[0m                           Traceback (most recent call last)",
      "File \u001b[1;32m~\\AppData\\Local\\Packages\\PythonSoftwareFoundation.Python.3.9_qbz5n2kfra8p0\\LocalCache\\local-packages\\Python39\\site-packages\\google\\cloud\\bigquery\\client.py:2481\u001b[0m, in \u001b[0;36mClient.load_table_from_file\u001b[1;34m(self, file_obj, destination, rewind, size, num_retries, job_id, job_id_prefix, location, project, job_config, timeout)\u001b[0m\n\u001b[0;32m   2480\u001b[0m     \u001b[39melse\u001b[39;00m:\n\u001b[1;32m-> 2481\u001b[0m         response \u001b[39m=\u001b[39m \u001b[39mself\u001b[39;49m\u001b[39m.\u001b[39;49m_do_multipart_upload(\n\u001b[0;32m   2482\u001b[0m             file_obj, job_resource, size, num_retries, timeout, project\u001b[39m=\u001b[39;49mproject\n\u001b[0;32m   2483\u001b[0m         )\n\u001b[0;32m   2484\u001b[0m \u001b[39mexcept\u001b[39;00m resumable_media\u001b[39m.\u001b[39mInvalidResponse \u001b[39mas\u001b[39;00m exc:\n",
      "File \u001b[1;32m~\\AppData\\Local\\Packages\\PythonSoftwareFoundation.Python.3.9_qbz5n2kfra8p0\\LocalCache\\local-packages\\Python39\\site-packages\\google\\cloud\\bigquery\\client.py:3048\u001b[0m, in \u001b[0;36mClient._do_multipart_upload\u001b[1;34m(self, stream, metadata, size, num_retries, timeout, project)\u001b[0m\n\u001b[0;32m   3044\u001b[0m     upload\u001b[39m.\u001b[39m_retry_strategy \u001b[39m=\u001b[39m resumable_media\u001b[39m.\u001b[39mRetryStrategy(\n\u001b[0;32m   3045\u001b[0m         max_retries\u001b[39m=\u001b[39mnum_retries\n\u001b[0;32m   3046\u001b[0m     )\n\u001b[1;32m-> 3048\u001b[0m response \u001b[39m=\u001b[39m upload\u001b[39m.\u001b[39;49mtransmit(\n\u001b[0;32m   3049\u001b[0m     \u001b[39mself\u001b[39;49m\u001b[39m.\u001b[39;49m_http, data, metadata, _GENERIC_CONTENT_TYPE, timeout\u001b[39m=\u001b[39;49mtimeout\n\u001b[0;32m   3050\u001b[0m )\n\u001b[0;32m   3052\u001b[0m \u001b[39mreturn\u001b[39;00m response\n",
      "File \u001b[1;32m~\\AppData\\Local\\Packages\\PythonSoftwareFoundation.Python.3.9_qbz5n2kfra8p0\\LocalCache\\local-packages\\Python39\\site-packages\\google\\resumable_media\\requests\\upload.py:153\u001b[0m, in \u001b[0;36mMultipartUpload.transmit\u001b[1;34m(self, transport, data, metadata, content_type, timeout)\u001b[0m\n\u001b[0;32m    151\u001b[0m     \u001b[39mreturn\u001b[39;00m result\n\u001b[1;32m--> 153\u001b[0m \u001b[39mreturn\u001b[39;00m _request_helpers\u001b[39m.\u001b[39;49mwait_and_retry(\n\u001b[0;32m    154\u001b[0m     retriable_request, \u001b[39mself\u001b[39;49m\u001b[39m.\u001b[39;49m_get_status_code, \u001b[39mself\u001b[39;49m\u001b[39m.\u001b[39;49m_retry_strategy\n\u001b[0;32m    155\u001b[0m )\n",
      "File \u001b[1;32m~\\AppData\\Local\\Packages\\PythonSoftwareFoundation.Python.3.9_qbz5n2kfra8p0\\LocalCache\\local-packages\\Python39\\site-packages\\google\\resumable_media\\requests\\_request_helpers.py:148\u001b[0m, in \u001b[0;36mwait_and_retry\u001b[1;34m(func, get_status_code, retry_strategy)\u001b[0m\n\u001b[0;32m    147\u001b[0m \u001b[39mtry\u001b[39;00m:\n\u001b[1;32m--> 148\u001b[0m     response \u001b[39m=\u001b[39m func()\n\u001b[0;32m    149\u001b[0m \u001b[39mexcept\u001b[39;00m _CONNECTION_ERROR_CLASSES \u001b[39mas\u001b[39;00m e:\n",
      "File \u001b[1;32m~\\AppData\\Local\\Packages\\PythonSoftwareFoundation.Python.3.9_qbz5n2kfra8p0\\LocalCache\\local-packages\\Python39\\site-packages\\google\\resumable_media\\requests\\upload.py:149\u001b[0m, in \u001b[0;36mMultipartUpload.transmit.<locals>.retriable_request\u001b[1;34m()\u001b[0m\n\u001b[0;32m    145\u001b[0m result \u001b[39m=\u001b[39m transport\u001b[39m.\u001b[39mrequest(\n\u001b[0;32m    146\u001b[0m     method, url, data\u001b[39m=\u001b[39mpayload, headers\u001b[39m=\u001b[39mheaders, timeout\u001b[39m=\u001b[39mtimeout\n\u001b[0;32m    147\u001b[0m )\n\u001b[1;32m--> 149\u001b[0m \u001b[39mself\u001b[39;49m\u001b[39m.\u001b[39;49m_process_response(result)\n\u001b[0;32m    151\u001b[0m \u001b[39mreturn\u001b[39;00m result\n",
      "File \u001b[1;32m~\\AppData\\Local\\Packages\\PythonSoftwareFoundation.Python.3.9_qbz5n2kfra8p0\\LocalCache\\local-packages\\Python39\\site-packages\\google\\resumable_media\\_upload.py:114\u001b[0m, in \u001b[0;36mUploadBase._process_response\u001b[1;34m(self, response)\u001b[0m\n\u001b[0;32m    113\u001b[0m \u001b[39mself\u001b[39m\u001b[39m.\u001b[39m_finished \u001b[39m=\u001b[39m \u001b[39mTrue\u001b[39;00m\n\u001b[1;32m--> 114\u001b[0m _helpers\u001b[39m.\u001b[39;49mrequire_status_code(response, (http\u001b[39m.\u001b[39;49mclient\u001b[39m.\u001b[39;49mOK,), \u001b[39mself\u001b[39;49m\u001b[39m.\u001b[39;49m_get_status_code)\n",
      "File \u001b[1;32m~\\AppData\\Local\\Packages\\PythonSoftwareFoundation.Python.3.9_qbz5n2kfra8p0\\LocalCache\\local-packages\\Python39\\site-packages\\google\\resumable_media\\_helpers.py:108\u001b[0m, in \u001b[0;36mrequire_status_code\u001b[1;34m(response, status_codes, get_status_code, callback)\u001b[0m\n\u001b[0;32m    107\u001b[0m         callback()\n\u001b[1;32m--> 108\u001b[0m     \u001b[39mraise\u001b[39;00m common\u001b[39m.\u001b[39mInvalidResponse(\n\u001b[0;32m    109\u001b[0m         response,\n\u001b[0;32m    110\u001b[0m         \u001b[39m\"\u001b[39m\u001b[39mRequest failed with status code\u001b[39m\u001b[39m\"\u001b[39m,\n\u001b[0;32m    111\u001b[0m         status_code,\n\u001b[0;32m    112\u001b[0m         \u001b[39m\"\u001b[39m\u001b[39mExpected one of\u001b[39m\u001b[39m\"\u001b[39m,\n\u001b[0;32m    113\u001b[0m         \u001b[39m*\u001b[39mstatus_codes\n\u001b[0;32m    114\u001b[0m     )\n\u001b[0;32m    115\u001b[0m \u001b[39mreturn\u001b[39;00m status_code\n",
      "\u001b[1;31mInvalidResponse\u001b[0m: ('Request failed with status code', 404, 'Expected one of', <HTTPStatus.OK: 200>)",
      "\nDuring handling of the above exception, another exception occurred:\n",
      "\u001b[1;31mNotFound\u001b[0m                                  Traceback (most recent call last)",
      "Cell \u001b[1;32mIn[9], line 4\u001b[0m\n\u001b[0;32m      1\u001b[0m dataset_name\u001b[39m=\u001b[39m\u001b[39m'\u001b[39m\u001b[39mfirestore_dev\u001b[39m\u001b[39m'\u001b[39m\n\u001b[0;32m      3\u001b[0m \u001b[39mfor\u001b[39;00m key \u001b[39min\u001b[39;00m mapping:\n\u001b[1;32m----> 4\u001b[0m     load_job \u001b[39m=\u001b[39m client\u001b[39m.\u001b[39;49mload_table_from_dataframe(\n\u001b[0;32m      5\u001b[0m         \u001b[39mglobals\u001b[39;49m()[\u001b[39mf\u001b[39;49m\u001b[39m\"\u001b[39;49m\u001b[39mdf_\u001b[39;49m\u001b[39m{\u001b[39;49;00mmapping[key]\u001b[39m}\u001b[39;49;00m\u001b[39m\"\u001b[39;49m]\n\u001b[0;32m      6\u001b[0m         ,\u001b[39m\"\u001b[39;49m\u001b[39mae32-vpcservice-datawarehouse.\u001b[39;49m\u001b[39m{}\u001b[39;49;00m\u001b[39m.\u001b[39;49m\u001b[39m{}\u001b[39;49;00m\u001b[39m\"\u001b[39;49m\u001b[39m.\u001b[39;49mformat(dataset_name,mapping[key])\n\u001b[0;32m      7\u001b[0m         ,job_config\u001b[39m=\u001b[39;49mjob_config2\n\u001b[0;32m      8\u001b[0m         ,location\u001b[39m=\u001b[39;49m\u001b[39m'\u001b[39;49m\u001b[39mEU\u001b[39;49m\u001b[39m'\u001b[39;49m\n\u001b[0;32m      9\u001b[0m     ) \n\u001b[0;32m     10\u001b[0m     \u001b[39mprint\u001b[39m(load_job\u001b[39m.\u001b[39mresult())\n",
      "File \u001b[1;32m~\\AppData\\Local\\Packages\\PythonSoftwareFoundation.Python.3.9_qbz5n2kfra8p0\\LocalCache\\local-packages\\Python39\\site-packages\\google\\cloud\\bigquery\\client.py:2729\u001b[0m, in \u001b[0;36mClient.load_table_from_dataframe\u001b[1;34m(self, dataframe, destination, num_retries, job_id, job_id_prefix, location, project, job_config, parquet_compression, timeout)\u001b[0m\n\u001b[0;32m   2727\u001b[0m     \u001b[39mwith\u001b[39;00m \u001b[39mopen\u001b[39m(tmppath, \u001b[39m\"\u001b[39m\u001b[39mrb\u001b[39m\u001b[39m\"\u001b[39m) \u001b[39mas\u001b[39;00m tmpfile:\n\u001b[0;32m   2728\u001b[0m         file_size \u001b[39m=\u001b[39m os\u001b[39m.\u001b[39mpath\u001b[39m.\u001b[39mgetsize(tmppath)\n\u001b[1;32m-> 2729\u001b[0m         \u001b[39mreturn\u001b[39;00m \u001b[39mself\u001b[39;49m\u001b[39m.\u001b[39;49mload_table_from_file(\n\u001b[0;32m   2730\u001b[0m             tmpfile,\n\u001b[0;32m   2731\u001b[0m             destination,\n\u001b[0;32m   2732\u001b[0m             num_retries\u001b[39m=\u001b[39;49mnum_retries,\n\u001b[0;32m   2733\u001b[0m             rewind\u001b[39m=\u001b[39;49m\u001b[39mTrue\u001b[39;49;00m,\n\u001b[0;32m   2734\u001b[0m             size\u001b[39m=\u001b[39;49mfile_size,\n\u001b[0;32m   2735\u001b[0m             job_id\u001b[39m=\u001b[39;49mjob_id,\n\u001b[0;32m   2736\u001b[0m             job_id_prefix\u001b[39m=\u001b[39;49mjob_id_prefix,\n\u001b[0;32m   2737\u001b[0m             location\u001b[39m=\u001b[39;49mlocation,\n\u001b[0;32m   2738\u001b[0m             project\u001b[39m=\u001b[39;49mproject,\n\u001b[0;32m   2739\u001b[0m             job_config\u001b[39m=\u001b[39;49mnew_job_config,\n\u001b[0;32m   2740\u001b[0m             timeout\u001b[39m=\u001b[39;49mtimeout,\n\u001b[0;32m   2741\u001b[0m         )\n\u001b[0;32m   2743\u001b[0m \u001b[39mfinally\u001b[39;00m:\n\u001b[0;32m   2744\u001b[0m     os\u001b[39m.\u001b[39mremove(tmppath)\n",
      "File \u001b[1;32m~\\AppData\\Local\\Packages\\PythonSoftwareFoundation.Python.3.9_qbz5n2kfra8p0\\LocalCache\\local-packages\\Python39\\site-packages\\google\\cloud\\bigquery\\client.py:2485\u001b[0m, in \u001b[0;36mClient.load_table_from_file\u001b[1;34m(self, file_obj, destination, rewind, size, num_retries, job_id, job_id_prefix, location, project, job_config, timeout)\u001b[0m\n\u001b[0;32m   2481\u001b[0m         response \u001b[39m=\u001b[39m \u001b[39mself\u001b[39m\u001b[39m.\u001b[39m_do_multipart_upload(\n\u001b[0;32m   2482\u001b[0m             file_obj, job_resource, size, num_retries, timeout, project\u001b[39m=\u001b[39mproject\n\u001b[0;32m   2483\u001b[0m         )\n\u001b[0;32m   2484\u001b[0m \u001b[39mexcept\u001b[39;00m resumable_media\u001b[39m.\u001b[39mInvalidResponse \u001b[39mas\u001b[39;00m exc:\n\u001b[1;32m-> 2485\u001b[0m     \u001b[39mraise\u001b[39;00m exceptions\u001b[39m.\u001b[39mfrom_http_response(exc\u001b[39m.\u001b[39mresponse)\n\u001b[0;32m   2487\u001b[0m \u001b[39mreturn\u001b[39;00m typing\u001b[39m.\u001b[39mcast(LoadJob, \u001b[39mself\u001b[39m\u001b[39m.\u001b[39mjob_from_resource(response\u001b[39m.\u001b[39mjson()))\n",
      "\u001b[1;31mNotFound\u001b[0m: 404 POST https://bigquery.googleapis.com/upload/bigquery/v2/projects/ae32-vpcservice-datawarehouse/jobs?uploadType=multipart: Not found: Dataset ae32-vpcservice-datawarehouse:firestore_dev"
     ]
    }
   ],
   "source": [
    "dataset_name='firestore_dev'\n",
    "\n",
    "for key in mapping:\n",
    "    load_job = client.load_table_from_dataframe(\n",
    "        globals()[f\"df_{mapping[key]}\"]\n",
    "        ,\"ae32-vpcservice-datawarehouse.{}.{}\".format(dataset_name,mapping[key])\n",
    "        ,job_config=job_config2\n",
    "        ,location='EU'\n",
    "    ) \n",
    "    print(load_job.result())"
   ]
  }
 ],
 "metadata": {
  "kernelspec": {
   "display_name": "Python 3",
   "language": "python",
   "name": "python3"
  },
  "language_info": {
   "codemirror_mode": {
    "name": "ipython",
    "version": 3
   },
   "file_extension": ".py",
   "mimetype": "text/x-python",
   "name": "python",
   "nbconvert_exporter": "python",
   "pygments_lexer": "ipython3",
   "version": "3.9.13"
  },
  "orig_nbformat": 4
 },
 "nbformat": 4,
 "nbformat_minor": 2
}
