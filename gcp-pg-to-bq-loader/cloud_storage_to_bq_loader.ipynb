{
 "cells": [
  {
   "cell_type": "code",
   "execution_count": 1,
   "metadata": {},
   "outputs": [],
   "source": [
    "from datetime import date, time, datetime\n",
    "from google.oauth2 import service_account\n",
    "from google.cloud import bigquery, storage\n",
    "import pandas as pd\n",
    "import json"
   ]
  },
  {
   "cell_type": "code",
   "execution_count": 2,
   "metadata": {},
   "outputs": [],
   "source": [
    "dev = True\n",
    "if (dev):\n",
    "    key_path = r\"C:\\Users\\nites\\OneDrive\\Documents\\napo-nitesh-local-ae32-vpcservice-datawarehouse-879a160a28ee.json\"\n",
    "    credentials = service_account.Credentials.from_service_account_file(\n",
    "        key_path, scopes=[\"https://www.googleapis.com/auth/cloud-platform\"],\n",
    "    )\n",
    "\n",
    "    client = bigquery.Client(credentials=credentials, project=credentials.project_id,)\n",
    "    storage_client = storage.Client(credentials=credentials, project=credentials.project_id,) \n",
    "\n",
    "else: \n",
    "    client = bigquery.Client()\n",
    "    storage_client = storage.Client()"
   ]
  },
  {
   "cell_type": "code",
   "execution_count": 9,
   "metadata": {},
   "outputs": [],
   "source": [
    "job_config = bigquery.LoadJobConfig(\n",
    "    source_format=bigquery.SourceFormat.NEWLINE_DELIMITED_JSON,\n",
    "    autodetect=True,\n",
    "    max_bad_records=1,\n",
    "    write_disposition = bigquery.WriteDisposition.WRITE_TRUNCATE\n",
    ")"
   ]
  },
  {
   "cell_type": "code",
   "execution_count": 4,
   "metadata": {},
   "outputs": [],
   "source": [
    "bucket_name='data-warehouse-harbour'\n",
    "dataset_name='postgres'\n",
    "path_name='policy-service/{}'.format(datetime.now().strftime(\"%Y-%m-%d\"))\n",
    "bucket = storage_client.get_bucket(bucket_name)"
   ]
  },
  {
   "cell_type": "code",
   "execution_count": 5,
   "metadata": {},
   "outputs": [],
   "source": [
    "table_mapping = {\n",
    "    \"policy.breed.json\":\"breed\",\n",
    "    \"policy.customer.json\":\"customer\",\n",
    "    \"policy.pet.json\":\"pet\",\n",
    "    \"policy.policy.json\":\"policy\",\n",
    "    \"policy.product.json\":\"product\",\n",
    "    \"policy.productline.json\":\"productline\",\n",
    "    \"policy.payment.json\":\"policy_payment\"\n",
    "}"
   ]
  },
  {
   "cell_type": "code",
   "execution_count": 12,
   "metadata": {},
   "outputs": [],
   "source": [
    "#print(table_mapping,table_id,uri,table_mapping[\"policy.customer.json\"])"
   ]
  },
  {
   "cell_type": "code",
   "execution_count": 10,
   "metadata": {},
   "outputs": [
    {
     "name": "stdout",
     "output_type": "stream",
     "text": [
      "policy.customer.json <google.cloud.bigquery.job.load.LoadJob object at 0x000001C4DAD4EB80>\n"
     ]
    }
   ],
   "source": [
    "for table in table_mapping:\n",
    "    uri = \"gs://{}/{}/{}\".format(bucket_name,path_name,table)\n",
    "    table_id = \"ae32-vpcservice-datawarehouse.{}.{}\".format(dataset_name,table_mapping[table])\n",
    "    load_job = client.load_table_from_uri(\n",
    "        uri,\n",
    "        table_id,\n",
    "        location=\"EU\",  # To match the destination dataset location\n",
    "        job_config=job_config,\n",
    "        \n",
    "    )\n",
    "    print(table,load_job.result())\n"
   ]
  },
  {
   "cell_type": "code",
   "execution_count": null,
   "metadata": {},
   "outputs": [
    {
     "data": {
      "text/html": [
       "<div>\n",
       "<style scoped>\n",
       "    .dataframe tbody tr th:only-of-type {\n",
       "        vertical-align: middle;\n",
       "    }\n",
       "\n",
       "    .dataframe tbody tr th {\n",
       "        vertical-align: top;\n",
       "    }\n",
       "\n",
       "    .dataframe thead th {\n",
       "        text-align: right;\n",
       "    }\n",
       "</style>\n",
       "<table border=\"1\" class=\"dataframe\">\n",
       "  <thead>\n",
       "    <tr style=\"text-align: right;\">\n",
       "      <th></th>\n",
       "      <th>_policyid</th>\n",
       "      <th>active</th>\n",
       "      <th>created_date</th>\n",
       "      <th>modified_date</th>\n",
       "      <th>failed_payments</th>\n",
       "      <th>failed_payment_events</th>\n",
       "    </tr>\n",
       "  </thead>\n",
       "  <tbody>\n",
       "    <tr>\n",
       "      <th>0</th>\n",
       "      <td>3009</td>\n",
       "      <td>True</td>\n",
       "      <td>2022-05-25T15:38:57.527Z</td>\n",
       "      <td>2022-06-29T15:33:31.961Z</td>\n",
       "      <td>[]</td>\n",
       "      <td>[]</td>\n",
       "    </tr>\n",
       "    <tr>\n",
       "      <th>1</th>\n",
       "      <td>20146</td>\n",
       "      <td>True</td>\n",
       "      <td>2022-07-19T16:56:31.226Z</td>\n",
       "      <td>2022-07-19T16:56:31.226Z</td>\n",
       "      <td>[]</td>\n",
       "      <td>[]</td>\n",
       "    </tr>\n",
       "    <tr>\n",
       "      <th>2</th>\n",
       "      <td>217</td>\n",
       "      <td>True</td>\n",
       "      <td>2022-02-07T10:49:07.615Z</td>\n",
       "      <td>2022-06-29T15:32:50.299Z</td>\n",
       "      <td>[]</td>\n",
       "      <td>[]</td>\n",
       "    </tr>\n",
       "    <tr>\n",
       "      <th>3</th>\n",
       "      <td>224</td>\n",
       "      <td>True</td>\n",
       "      <td>2022-02-07T10:49:07.615Z</td>\n",
       "      <td>2022-06-29T15:32:50.316Z</td>\n",
       "      <td>[]</td>\n",
       "      <td>[]</td>\n",
       "    </tr>\n",
       "    <tr>\n",
       "      <th>4</th>\n",
       "      <td>225</td>\n",
       "      <td>True</td>\n",
       "      <td>2022-02-07T10:49:07.615Z</td>\n",
       "      <td>2022-06-29T15:32:50.318Z</td>\n",
       "      <td>[]</td>\n",
       "      <td>[]</td>\n",
       "    </tr>\n",
       "  </tbody>\n",
       "</table>\n",
       "</div>"
      ],
      "text/plain": [
       "   _policyid  active              created_date             modified_date  \\\n",
       "0       3009    True  2022-05-25T15:38:57.527Z  2022-06-29T15:33:31.961Z   \n",
       "1      20146    True  2022-07-19T16:56:31.226Z  2022-07-19T16:56:31.226Z   \n",
       "2        217    True  2022-02-07T10:49:07.615Z  2022-06-29T15:32:50.299Z   \n",
       "3        224    True  2022-02-07T10:49:07.615Z  2022-06-29T15:32:50.316Z   \n",
       "4        225    True  2022-02-07T10:49:07.615Z  2022-06-29T15:32:50.318Z   \n",
       "\n",
       "  failed_payments failed_payment_events  \n",
       "0              []                    []  \n",
       "1              []                    []  \n",
       "2              []                    []  \n",
       "3              []                    []  \n",
       "4              []                    []  "
      ]
     },
     "execution_count": 12,
     "metadata": {},
     "output_type": "execute_result"
    }
   ],
   "source": [
    "# Subscription table loading\n",
    "blob = bucket.blob(\"{}/{}\".format(path_name,'policy.subscription.json'))\n",
    "df = pd.read_json(blob.download_as_string(), lines=True)\n",
    "df1 = pd.json_normalize(df['fields'])"
   ]
  },
  {
   "cell_type": "code",
   "execution_count": null,
   "metadata": {},
   "outputs": [],
   "source": [
    "if 'policyid' in df1.columns:\n",
    "    policy_column = 'policyid' \n",
    "if '_policyid' in df1.columns:\n",
    "    policy_column = '_policyid'\n",
    "    df1.rename(columns={'_policyid':'policyid'},inplace=True)"
   ]
  },
  {
   "cell_type": "code",
   "execution_count": null,
   "metadata": {},
   "outputs": [
    {
     "name": "stdout",
     "output_type": "stream",
     "text": [
      "True\n",
      "<google.cloud.bigquery.job.load.LoadJob object at 0x00000234A53F9DF0>\n"
     ]
    }
   ],
   "source": [
    "if (df1.policyid.count()==df.model.count()):\n",
    "    print('True')\n",
    "    df_final = pd.merge(df, df1, left_index=True, right_index=True)\n",
    "    df_final.drop(columns=['fields','failed_payment_events'],inplace=True)\n",
    "\n",
    "job_config2 = bigquery.LoadJobConfig(\n",
    "    autodetect=True,\n",
    "    write_disposition = bigquery.WriteDisposition.WRITE_TRUNCATE\n",
    ")\n",
    "\n",
    "load_job = client.load_table_from_dataframe(\n",
    "    df_final\n",
    "    ,\"ae32-vpcservice-datawarehouse.{}.subscription\".format(dataset_name)\n",
    "    ,job_config=job_config2\n",
    "    ,location='EU'\n",
    ") \n",
    "print(load_job.result())"
   ]
  }
 ],
 "metadata": {
  "kernelspec": {
   "display_name": "Python 3.9.13 64-bit (microsoft store)",
   "language": "python",
   "name": "python3"
  },
  "language_info": {
   "codemirror_mode": {
    "name": "ipython",
    "version": 3
   },
   "file_extension": ".py",
   "mimetype": "text/x-python",
   "name": "python",
   "nbconvert_exporter": "python",
   "pygments_lexer": "ipython3",
   "version": "3.9.13"
  },
  "vscode": {
   "interpreter": {
    "hash": "a0582927a501bf0a8771c5ee56c6fda08340ee7cb573043c8d1a600e7eba01ad"
   }
  }
 },
 "nbformat": 4,
 "nbformat_minor": 4
}
